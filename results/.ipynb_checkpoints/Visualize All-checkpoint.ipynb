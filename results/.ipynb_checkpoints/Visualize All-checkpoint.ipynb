{
 "cells": [
  {
   "cell_type": "markdown",
   "id": "0495cd8b",
   "metadata": {},
   "source": [
    "# Imports"
   ]
  },
  {
   "cell_type": "markdown",
   "id": "b5a217fe",
   "metadata": {},
   "source": [
    "# Functions"
   ]
  },
  {
   "cell_type": "code",
   "execution_count": 5,
   "id": "a07d2b60",
   "metadata": {
    "scrolled": false
   },
   "outputs": [
    {
     "ename": "KeyError",
     "evalue": "'correlation_id'",
     "output_type": "error",
     "traceback": [
      "\u001b[0;31m---------------------------------------------------------------------------\u001b[0m",
      "\u001b[0;31mKeyError\u001b[0m                                  Traceback (most recent call last)",
      "Cell \u001b[0;32mIn[5], line 37\u001b[0m\n\u001b[1;32m     35\u001b[0m \u001b[38;5;28;01mfor\u001b[39;00m i, file_path \u001b[38;5;129;01min\u001b[39;00m \u001b[38;5;28menumerate\u001b[39m(file_paths):\n\u001b[1;32m     36\u001b[0m     file_identifier \u001b[38;5;241m=\u001b[39m \u001b[38;5;124mf\u001b[39m\u001b[38;5;124m'\u001b[39m\u001b[38;5;124mFile_\u001b[39m\u001b[38;5;132;01m{\u001b[39;00mi\u001b[38;5;241m+\u001b[39m\u001b[38;5;241m1\u001b[39m\u001b[38;5;132;01m}\u001b[39;00m\u001b[38;5;124m'\u001b[39m  \u001b[38;5;66;03m# Creating a unique identifier for each file\u001b[39;00m\n\u001b[0;32m---> 37\u001b[0m     all_data\u001b[38;5;241m.\u001b[39mextend(\u001b[43mprocess_json\u001b[49m\u001b[43m(\u001b[49m\u001b[43mfile_path\u001b[49m\u001b[43m,\u001b[49m\u001b[43m \u001b[49m\u001b[43mfile_identifier\u001b[49m\u001b[43m)\u001b[49m)\n\u001b[1;32m     39\u001b[0m \u001b[38;5;66;03m# Create DataFrame\u001b[39;00m\n\u001b[1;32m     40\u001b[0m df \u001b[38;5;241m=\u001b[39m pd\u001b[38;5;241m.\u001b[39mDataFrame(all_data)\n",
      "Cell \u001b[0;32mIn[5], line 20\u001b[0m, in \u001b[0;36mprocess_json\u001b[0;34m(file_path, file_identifier)\u001b[0m\n\u001b[1;32m     18\u001b[0m \u001b[38;5;28;01mfor\u001b[39;00m record \u001b[38;5;129;01min\u001b[39;00m data:\n\u001b[1;32m     19\u001b[0m     client_name \u001b[38;5;241m=\u001b[39m record[\u001b[38;5;124m'\u001b[39m\u001b[38;5;124msender\u001b[39m\u001b[38;5;124m'\u001b[39m][\u001b[38;5;124m'\u001b[39m\u001b[38;5;124mname\u001b[39m\u001b[38;5;124m'\u001b[39m]\n\u001b[0;32m---> 20\u001b[0m     correlation_id \u001b[38;5;241m=\u001b[39m \u001b[43mrecord\u001b[49m\u001b[43m[\u001b[49m\u001b[38;5;124;43m'\u001b[39;49m\u001b[38;5;124;43mcorrelation_id\u001b[39;49m\u001b[38;5;124;43m'\u001b[39;49m\u001b[43m]\u001b[49m\n\u001b[1;32m     21\u001b[0m     training_info \u001b[38;5;241m=\u001b[39m record[\u001b[38;5;124m'\u001b[39m\u001b[38;5;124mdata\u001b[39m\u001b[38;5;124m'\u001b[39m]\n\u001b[1;32m     22\u001b[0m     extracted_data\u001b[38;5;241m.\u001b[39mappend({\n\u001b[1;32m     23\u001b[0m         \u001b[38;5;124m'\u001b[39m\u001b[38;5;124mfile_id\u001b[39m\u001b[38;5;124m'\u001b[39m: file_identifier,  \u001b[38;5;66;03m# Adding file identifier\u001b[39;00m\n\u001b[1;32m     24\u001b[0m         \u001b[38;5;124m'\u001b[39m\u001b[38;5;124mclient\u001b[39m\u001b[38;5;124m'\u001b[39m: client_name,\n\u001b[0;32m   (...)\u001b[0m\n\u001b[1;32m     29\u001b[0m         \u001b[38;5;124m'\u001b[39m\u001b[38;5;124mtest_accuracy\u001b[39m\u001b[38;5;124m'\u001b[39m: training_info[\u001b[38;5;124m'\u001b[39m\u001b[38;5;124mtest_accuracy\u001b[39m\u001b[38;5;124m'\u001b[39m]\n\u001b[1;32m     30\u001b[0m     })\n",
      "\u001b[0;31mKeyError\u001b[0m: 'correlation_id'"
     ]
    }
   ],
   "source": [
    "# Adding a modified script to process and plot the data\n",
    "import json\n",
    "import pandas as pd\n",
    "import matplotlib.pyplot as plt\n",
    "import seaborn as sns\n",
    "\n",
    "# Paths to the uploaded JSON files\n",
    "file_paths = ['5_client_40.json', '5_client_baseline.json']\n",
    "\n",
    "# Modified function to process each JSON file with an added file identifier\n",
    "def process_json(file_path, file_identifier):\n",
    "    with open(file_path, 'r') as file:\n",
    "        data = json.load(file)\n",
    "\n",
    "    # Extract data with file identifier\n",
    "    extracted_data = []\n",
    "    for record in data:\n",
    "        client_name = record['sender']['name']\n",
    "        correlation_id = record['correlation_id']\n",
    "        training_info = record['data']\n",
    "        extracted_data.append({\n",
    "            'file_id': file_identifier,  # Adding file identifier\n",
    "            'client': client_name,\n",
    "            'correlationId': correlation_id,\n",
    "            'training_loss': training_info['training_loss'],\n",
    "            'training_accuracy': training_info['training_accuracy'],\n",
    "            'test_loss': training_info['test_loss'],\n",
    "            'test_accuracy': training_info['test_accuracy']\n",
    "        })\n",
    "    return extracted_data\n",
    "\n",
    "# Processing all JSON files with file identifiers\n",
    "all_data = []\n",
    "for i, file_path in enumerate(file_paths):\n",
    "    file_identifier = f'File_{i+1}'  # Creating a unique identifier for each file\n",
    "    all_data.extend(process_json(file_path, file_identifier))\n",
    "\n",
    "# Create DataFrame\n",
    "df = pd.DataFrame(all_data)\n",
    "\n",
    "# Assigning round numbers based on unique correlationId\n",
    "unique_correlation_ids = sorted(df['correlationId'].unique())\n",
    "round_mapping = {correlation_id: f'Round {i+1}' for i, correlation_id in enumerate(unique_correlation_ids)}\n",
    "\n",
    "# Applying the mapping to the DataFrame\n",
    "df['Round'] = df['correlationId'].map(round_mapping)\n",
    "\n",
    "# Calculate means for the grouped data by round and file\n",
    "mean_df = df.groupby(['Round', 'file_id']).mean().reset_index()\n",
    "\n",
    "# Plotting separate lines for each file\n",
    "plt.figure(figsize=(20, 10))\n",
    "\n",
    "# Plot training accuracy\n",
    "plt.subplot(2, 2, 1)\n",
    "sns.lineplot(x='Round', y='training_accuracy', hue='file_id', data=mean_df, marker='o')\n",
    "plt.title('Mean Training Accuracy per Round')\n",
    "plt.xticks(rotation=45)\n",
    "plt.grid()\n",
    "\n",
    "# Plot training loss\n",
    "plt.subplot(2, 2, 2)\n",
    "sns.lineplot(x='Round', y='training_loss', hue='file_id', data=mean_df, marker='o')\n",
    "plt.title('Mean Training Loss per Round')\n",
    "plt.xticks(rotation=45)\n",
    "plt.grid()\n",
    "\n",
    "# Plot test accuracy\n",
    "plt.subplot(2, 2, 3)\n",
    "sns.lineplot(x='Round', y='test_accuracy', hue='file_id', data=mean_df, marker='o')\n",
    "plt.title('Mean Test Accuracy per Round')\n",
    "plt.xticks(rotation=45)\n",
    "plt.grid()\n",
    "\n",
    "# Plot test loss\n",
    "plt.subplot(2, 2, 4)\n",
    "sns.lineplot(x='Round', y='test_loss', hue='file_id', data=mean_df, marker='o')\n",
    "plt.title('Mean Test Loss per Round')\n",
    "plt.xticks(rotation=45)\n",
    "plt.grid()\n",
    "\n",
    "plt.tight_layout()\n",
    "plt.legend()\n"
   ]
  },
  {
   "cell_type": "code",
   "execution_count": null,
   "id": "aa659fa5",
   "metadata": {},
   "outputs": [],
   "source": []
  }
 ],
 "metadata": {
  "kernelspec": {
   "display_name": "fedn_project",
   "language": "python",
   "name": "fedn_project"
  },
  "language_info": {
   "codemirror_mode": {
    "name": "ipython",
    "version": 3
   },
   "file_extension": ".py",
   "mimetype": "text/x-python",
   "name": "python",
   "nbconvert_exporter": "python",
   "pygments_lexer": "ipython3",
   "version": "3.9.18"
  }
 },
 "nbformat": 4,
 "nbformat_minor": 5
}
