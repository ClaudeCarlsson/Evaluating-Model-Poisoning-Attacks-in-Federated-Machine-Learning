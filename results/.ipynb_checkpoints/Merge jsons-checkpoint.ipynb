{
 "cells": [
  {
   "cell_type": "markdown",
   "id": "9d30e16b",
   "metadata": {},
   "source": [
    "# Imports"
   ]
  },
  {
   "cell_type": "code",
   "execution_count": 1,
   "id": "f17edad8",
   "metadata": {},
   "outputs": [
    {
     "name": "stdout",
     "output_type": "stream",
     "text": [
      "Intel MKL WARNING: Support of Intel(R) Streaming SIMD Extensions 4.2 (Intel(R) SSE4.2) enabled only processors has been deprecated. Intel oneAPI Math Kernel Library 2025.0 will require Intel(R) Advanced Vector Extensions (Intel(R) AVX) instructions.\n",
      "Intel MKL WARNING: Support of Intel(R) Streaming SIMD Extensions 4.2 (Intel(R) SSE4.2) enabled only processors has been deprecated. Intel oneAPI Math Kernel Library 2025.0 will require Intel(R) Advanced Vector Extensions (Intel(R) AVX) instructions.\n"
     ]
    }
   ],
   "source": [
    "import os\n",
    "import json\n",
    "from collections import defaultdict\n",
    "import pandas as pd"
   ]
  },
  {
   "cell_type": "markdown",
   "id": "1c5bcadd",
   "metadata": {},
   "source": [
    "# Functions"
   ]
  },
  {
   "cell_type": "code",
   "execution_count": 2,
   "id": "c18a6adb",
   "metadata": {},
   "outputs": [],
   "source": [
    "def json_to_df(file_path):\n",
    "    \"\"\"\n",
    "    Extract training accuracy and loss + validation accuracy and loss from the raw json files\n",
    "    \n",
    "    From each correlationId there is one json item for each client\n",
    "    \n",
    "    In this functions all items for a specific correlationId are merged to estimate\n",
    "    the performance of the global model\n",
    "    \n",
    "    \"\"\"\n",
    "    \n",
    "    # Load the JSON file\n",
    "    with open(file_path, 'r') as file:\n",
    "        data = json.load(file)\n",
    "\n",
    "    # Extracting relevant data from each record\n",
    "    extracted_data = []\n",
    "    for record in data:\n",
    "        client_name = record['sender']['name']\n",
    "        correlation_id = record['correlationId']\n",
    "        training_info = json.loads(record['data'])\n",
    "        extracted_data.append({\n",
    "            'client': client_name,\n",
    "            'correlationId': correlation_id,\n",
    "            'training_loss': training_info['training_loss'],\n",
    "            'training_accuracy': training_info['training_accuracy'],\n",
    "            'test_loss': training_info['test_loss'],\n",
    "            'test_accuracy': training_info['test_accuracy']\n",
    "        })\n",
    "\n",
    "    # Creating a DataFrame from the extracted data\n",
    "    df = pd.DataFrame(extracted_data)\n",
    "\n",
    "    # Creating a mapping of correlationId to readable round numbers\n",
    "    unique_correlation_ids = df['correlationId'].unique()\n",
    "    round_mapping = {correlation_id: f'Round {i+1}' for i, correlation_id in enumerate(unique_correlation_ids)}\n",
    "\n",
    "    # Applying the mapping to the DataFrame\n",
    "    df['Round'] = df['correlationId'].map(round_mapping)\n",
    "\n",
    "    # Initializing the aggregated data dictionary with lists for each metric\n",
    "    aggregated_data = {\n",
    "        'Round': [],\n",
    "        'training_accuracy': [],\n",
    "        'training_loss': [],\n",
    "        'test_accuracy': [],\n",
    "        'test_loss': []\n",
    "    }\n",
    "\n",
    "    # Aggregating data for each round\n",
    "    for round_label in df['Round'].unique():\n",
    "        round_data = df[df['Round'] == round_label]\n",
    "        aggregated_data['Round'].extend([round_label] * len(round_data))\n",
    "        aggregated_data['training_accuracy'].extend(round_data['training_accuracy'])\n",
    "        aggregated_data['training_loss'].extend(round_data['training_loss'])\n",
    "        aggregated_data['test_accuracy'].extend(round_data['test_accuracy'])\n",
    "        aggregated_data['test_loss'].extend(round_data['test_loss'])\n",
    "\n",
    "    # Converting aggregated data into a DataFrame for plotting\n",
    "    df_aggregated = pd.DataFrame(aggregated_data)\n",
    "\n",
    "    # Create copy of df\n",
    "    df = df_aggregated.copy()\n",
    "\n",
    "    # Group by Round and calculate mean for \n",
    "    df = df.groupby('Round').mean()\n",
    "\n",
    "    # Sort by index\n",
    "    df.index = df.index.astype(str)\n",
    "    numeric_index = df.index.str.extract('(\\d+)')[0].astype(int)\n",
    "    df = df.iloc[numeric_index.argsort()]\n",
    "    \n",
    "    return df"
   ]
  },
  {
   "cell_type": "markdown",
   "id": "e72562e1",
   "metadata": {},
   "source": [
    "# Solution"
   ]
  },
  {
   "cell_type": "markdown",
   "id": "a38c1140",
   "metadata": {},
   "source": [
    "First we call the json_to_pdf function to estimate the performance of the global model for each .json file and create a pandas dataframe for each of those. Containing 5 attributes: Round, train_acc, train_loss, val_acc and val_loss\n",
    "\n",
    "\n",
    "Then we calculate the mean for each attribute over all the pandas dataframes that were created with the function above.\n",
    "\n",
    "\n",
    "Finally we save the merged dataframe as a json file"
   ]
  },
  {
   "cell_type": "code",
   "execution_count": 13,
   "id": "c3b92edf",
   "metadata": {},
   "outputs": [
    {
     "name": "stdout",
     "output_type": "stream",
     "text": [
      "          training_accuracy  training_loss  test_accuracy  test_loss\n",
      "Round                                                               \n",
      "Round 1            0.116133       2.297642       0.115067   2.298833\n",
      "Round 2            0.135089       2.286086       0.132333   2.287077\n",
      "Round 3            0.154289       2.272648       0.150900   2.273398\n",
      "Round 4            0.178156       2.256686       0.175200   2.257150\n",
      "Round 5            0.203622       2.237587       0.200033   2.237655\n",
      "Round 6            0.240783       2.214913       0.236133   2.214461\n",
      "Round 7            0.314783       2.188166       0.311433   2.187142\n",
      "Round 8            0.375544       2.156557       0.370567   2.154877\n",
      "Round 9            0.408161       2.119040       0.406667   2.116575\n",
      "Round 10           0.434494       2.074535       0.434467   2.071162\n",
      "Round 11           0.467861       2.021898       0.468233   2.017518\n",
      "Round 12           0.500622       1.960003       0.502267   1.954455\n",
      "Round 13           0.529072       1.888013       0.530633   1.881094\n",
      "Round 14           0.557256       1.805700       0.559933   1.797238\n",
      "Round 15           0.588633       1.713928       0.592733   1.703876\n",
      "Round 16           0.620200       1.614634       0.622033   1.603077\n",
      "Round 17           0.650789       1.511005       0.653933   1.498198\n",
      "Round 18           0.679489       1.407021       0.683367   1.393322\n",
      "Round 19           0.704150       1.306272       0.708000   1.292086\n",
      "Round 20           0.724283       1.211666       0.727833   1.197353\n",
      "Round 21           0.740883       1.125193       0.745133   1.111057\n",
      "Round 22           0.755478       1.047815       0.758800   1.034100\n",
      "Round 23           0.767572       0.979609       0.770467   0.966494\n",
      "Round 24           0.777850       0.920043       0.779933   0.907635\n",
      "Round 25           0.787533       0.868238       0.791433   0.856591\n",
      "Round 26           0.796033       0.823175       0.799433   0.812306\n",
      "Round 27           0.803322       0.783847       0.806067   0.773747\n",
      "Round 28           0.809778       0.749345       0.812900   0.739997\n",
      "Round 29           0.816128       0.718884       0.817467   0.710258\n",
      "Round 30           0.821189       0.691806       0.822533   0.683878\n",
      "Round 31           0.826239       0.667568       0.827600   0.660315\n",
      "Round 32           0.830822       0.645726       0.831367   0.639130\n",
      "Round 33           0.835261       0.625922       0.836433   0.619965\n",
      "Round 34           0.839500       0.607866       0.840033   0.602532\n",
      "Round 35           0.843406       0.591321       0.842433   0.586592\n",
      "Round 36           0.846906       0.576092       0.846700   0.571950\n",
      "Round 37           0.850183       0.562020       0.850100   0.558450\n",
      "Round 38           0.853250       0.548972       0.852367   0.545967\n",
      "Round 39           0.856378       0.536838       0.854933   0.534389\n"
     ]
    }
   ],
   "source": [
    "# Specify the directory\n",
    "root = \"Backdoor/50_clients_40_rounds\"\n",
    "dir_to_merge = \"20%\"\n",
    "\n",
    "# Define paths\n",
    "path = os.path.join(root, dir_to_merge)\n",
    "file_paths = []\n",
    "for item in os.listdir(path):\n",
    "    if os.path.isfile(os.path.join(path, item)) and not item.endswith('merged.json') and item.endswith('.json'):\n",
    "        file_paths.append(os.path.join(path, item))\n",
    "\n",
    "\n",
    "# Load data from files\n",
    "dfs = []\n",
    "for path in file_paths:\n",
    "    dfs.append(json_to_df(path))  # Each json becomes a df with 4 columns. One for each metric\n",
    "    \n",
    "\n",
    "# Merge rounds\n",
    "merged_df = pd.concat(dfs) # Concatenate the DataFrames\n",
    "merged_df = merged_df.groupby('Round').mean() # Group by 'Round' and calculate the mean\n",
    "\n",
    "\n",
    "# Sort by round (index)\n",
    "merged_df.index = merged_df.index.astype(str)\n",
    "numeric_index = merged_df.index.str.extract('(\\d+)')[0].astype(int)\n",
    "merged_df = merged_df.iloc[numeric_index.argsort()]\n",
    "\n",
    "\n",
    "# View result\n",
    "print(merged_df)\n",
    "\n",
    "\n",
    "# Save\n",
    "json_output = merged_df.to_json(orient='index', indent=4)\n",
    "filename = \"merged.json\"\n",
    "with open(os.path.join(root, dir_to_merge, filename), 'w') as file:\n",
    "    file.write(json_output)"
   ]
  },
  {
   "cell_type": "code",
   "execution_count": null,
   "id": "5e30127e",
   "metadata": {},
   "outputs": [],
   "source": []
  }
 ],
 "metadata": {
  "kernelspec": {
   "display_name": "fedn_project",
   "language": "python",
   "name": "fedn_project"
  },
  "language_info": {
   "codemirror_mode": {
    "name": "ipython",
    "version": 3
   },
   "file_extension": ".py",
   "mimetype": "text/x-python",
   "name": "python",
   "nbconvert_exporter": "python",
   "pygments_lexer": "ipython3",
   "version": "3.9.18"
  }
 },
 "nbformat": 4,
 "nbformat_minor": 5
}
