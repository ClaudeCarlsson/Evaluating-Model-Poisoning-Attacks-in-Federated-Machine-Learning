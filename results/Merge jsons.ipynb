{
 "cells": [
  {
   "cell_type": "markdown",
   "id": "9d30e16b",
   "metadata": {},
   "source": [
    "# Imports"
   ]
  },
  {
   "cell_type": "code",
   "execution_count": null,
   "id": "f17edad8",
   "metadata": {},
   "outputs": [],
   "source": [
    "import os\n",
    "import json\n",
    "from collections import defaultdict\n",
    "import pandas as pd"
   ]
  },
  {
   "cell_type": "markdown",
   "id": "1c5bcadd",
   "metadata": {},
   "source": [
    "# Functions"
   ]
  },
  {
   "cell_type": "code",
   "execution_count": 86,
   "id": "c18a6adb",
   "metadata": {},
   "outputs": [],
   "source": [
    "def json_to_df(file_path):\n",
    "    \"\"\"\n",
    "    Extract training accuracy and loss + validation accuracy and loss from the raw json files\n",
    "    \n",
    "    From each correlationId there is one json item for each client\n",
    "    \n",
    "    In this functions all items for a specific correlationId are merged to estimate\n",
    "    the performance of the global model\n",
    "    \n",
    "    \"\"\"\n",
    "    \n",
    "    # Load the JSON file\n",
    "    with open(file_path, 'r') as file:\n",
    "        data = json.load(file)\n",
    "\n",
    "    # Extracting relevant data from each record\n",
    "    extracted_data = []\n",
    "    for record in data:\n",
    "        client_name = record['sender']['name']\n",
    "        correlation_id = record['correlationId']\n",
    "        training_info = json.loads(record['data'])\n",
    "        extracted_data.append({\n",
    "            'client': client_name,\n",
    "            'correlationId': correlation_id,\n",
    "            'training_loss': training_info['training_loss'],\n",
    "            'training_accuracy': training_info['training_accuracy'],\n",
    "            'test_loss': training_info['test_loss'],\n",
    "            'test_accuracy': training_info['test_accuracy']\n",
    "        })\n",
    "\n",
    "    # Creating a DataFrame from the extracted data\n",
    "    df = pd.DataFrame(extracted_data)\n",
    "\n",
    "    # Creating a mapping of correlationId to readable round numbers\n",
    "    unique_correlation_ids = df['correlationId'].unique()\n",
    "    round_mapping = {correlation_id: f'Round {i+1}' for i, correlation_id in enumerate(unique_correlation_ids)}\n",
    "\n",
    "    # Applying the mapping to the DataFrame\n",
    "    df['Round'] = df['correlationId'].map(round_mapping)\n",
    "\n",
    "    # Initializing the aggregated data dictionary with lists for each metric\n",
    "    aggregated_data = {\n",
    "        'Round': [],\n",
    "        'training_accuracy': [],\n",
    "        'training_loss': [],\n",
    "        'test_accuracy': [],\n",
    "        'test_loss': []\n",
    "    }\n",
    "\n",
    "    # Aggregating data for each round\n",
    "    for round_label in df['Round'].unique():\n",
    "        round_data = df[df['Round'] == round_label]\n",
    "        aggregated_data['Round'].extend([round_label] * len(round_data))\n",
    "        aggregated_data['training_accuracy'].extend(round_data['training_accuracy'])\n",
    "        aggregated_data['training_loss'].extend(round_data['training_loss'])\n",
    "        aggregated_data['test_accuracy'].extend(round_data['test_accuracy'])\n",
    "        aggregated_data['test_loss'].extend(round_data['test_loss'])\n",
    "\n",
    "    # Converting aggregated data into a DataFrame for plotting\n",
    "    df_aggregated = pd.DataFrame(aggregated_data)\n",
    "\n",
    "    # Create copy of df\n",
    "    df = df_aggregated.copy()\n",
    "\n",
    "    # Group by Round and calculate mean for \n",
    "    df = df.groupby('Round').mean()\n",
    "\n",
    "    # Sort by index\n",
    "    df.index = df.index.astype(str)\n",
    "    numeric_index = df.index.str.extract('(\\d+)')[0].astype(int)\n",
    "    df = df.iloc[numeric_index.argsort()]\n",
    "    \n",
    "    return df"
   ]
  },
  {
   "cell_type": "markdown",
   "id": "e72562e1",
   "metadata": {},
   "source": [
    "# Solution"
   ]
  },
  {
   "cell_type": "markdown",
   "id": "a38c1140",
   "metadata": {},
   "source": [
    "First we call the json_to_pdf function to estimate the performance of the global model for each .json file and create a pandas dataframe for each of those. Containing 5 attributes: Round, train_acc, train_loss, val_acc and val_loss\n",
    "\n",
    "\n",
    "Then we calculate the mean for each attribute over all the pandas dataframes that were created with the function above.\n",
    "\n",
    "\n",
    "Finally we save the merged dataframe as a json file"
   ]
  },
  {
   "cell_type": "code",
   "execution_count": 100,
   "id": "c3b92edf",
   "metadata": {
    "scrolled": false
   },
   "outputs": [
    {
     "name": "stdout",
     "output_type": "stream",
     "text": [
      "          training_accuracy  training_loss  test_accuracy  test_loss\n",
      "Round                                                               \n",
      "Round 1            0.107660       2.262705        0.10464   2.263586\n",
      "Round 2            0.236880       2.194609        0.23126   2.194411\n",
      "Round 3            0.511710       1.752283        0.51494   1.740853\n",
      "Round 4            0.663050       1.091503        0.67144   1.075264\n",
      "Round 5            0.746420       0.809570        0.75310   0.797675\n",
      "Round 6            0.790547       0.676689        0.79630   0.666382\n",
      "Round 7            0.820863       0.592861        0.82566   0.581877\n",
      "Round 8            0.841113       0.537778        0.84334   0.525862\n",
      "Round 9            0.853857       0.500993        0.85538   0.488657\n",
      "Round 10           0.862230       0.474850        0.86368   0.462751\n",
      "Round 11           0.869293       0.454556        0.86994   0.442984\n",
      "Round 12           0.874640       0.437874        0.87438   0.426897\n",
      "Round 13           0.879093       0.423803        0.87922   0.413402\n",
      "Round 14           0.882860       0.411746        0.88280   0.401962\n",
      "Round 15           0.886410       0.400930        0.88680   0.391691\n",
      "Round 16           0.889360       0.391193        0.88970   0.382399\n",
      "Round 17           0.892180       0.382267        0.89216   0.373955\n",
      "Round 18           0.894643       0.374109        0.89404   0.366381\n",
      "Round 19           0.896963       0.366544        0.89604   0.359322\n",
      "Round 20           0.899063       0.359554        0.89806   0.352866\n"
     ]
    }
   ],
   "source": [
    "# Specify the directory\n",
    "root = \"Test\"\n",
    "dir_to_merge = \"Baseline\"\n",
    "\n",
    "# Define paths\n",
    "path = os.path.join(root, dir_to_merge)\n",
    "file_paths = []\n",
    "for item in os.listdir(path):\n",
    "    if os.path.isfile(os.path.join(path, item)) and not item.endswith('merged.json') and item.endswith('.json'):\n",
    "        file_paths.append(os.path.join(path, item))\n",
    "\n",
    "\n",
    "# Load data from files\n",
    "dfs = []\n",
    "for path in file_paths:\n",
    "    dfs.append(json_to_df(path))  # Each json becomes a df with 4 columns. One for each metric\n",
    "    \n",
    "\n",
    "# Merge rounds\n",
    "merged_df = pd.concat(dfs) # Concatenate the DataFrames\n",
    "merged_df = merged_df.groupby('Round').mean() # Group by 'Round' and calculate the mean\n",
    "\n",
    "\n",
    "# Sort by round (index)\n",
    "merged_df.index = merged_df.index.astype(str)\n",
    "numeric_index = merged_df.index.str.extract('(\\d+)')[0].astype(int)\n",
    "merged_df = merged_df.iloc[numeric_index.argsort()]\n",
    "\n",
    "\n",
    "# View result\n",
    "print(merged_df)\n",
    "\n",
    "\n",
    "# Save\n",
    "json_output = merged_df.to_json(orient='index', indent=4)\n",
    "filename = \"merged.json\"\n",
    "with open(os.path.join(root, dir_to_merge, filename), 'w') as file:\n",
    "    file.write(json_output)"
   ]
  },
  {
   "cell_type": "code",
   "execution_count": null,
   "id": "5e30127e",
   "metadata": {},
   "outputs": [],
   "source": []
  }
 ],
 "metadata": {
  "kernelspec": {
   "display_name": "fedn_project",
   "language": "python",
   "name": "fedn_project"
  },
  "language_info": {
   "codemirror_mode": {
    "name": "ipython",
    "version": 3
   },
   "file_extension": ".py",
   "mimetype": "text/x-python",
   "name": "python",
   "nbconvert_exporter": "python",
   "pygments_lexer": "ipython3",
   "version": "3.9.18"
  }
 },
 "nbformat": 4,
 "nbformat_minor": 5
}
