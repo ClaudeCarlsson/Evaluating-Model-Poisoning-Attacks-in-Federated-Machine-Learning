{
 "cells": [
  {
   "cell_type": "markdown",
   "id": "6ee5ce6b-0ef4-47a1-8681-1883a3d0fac0",
   "metadata": {},
   "source": [
    "# Import"
   ]
  },
  {
   "cell_type": "code",
   "execution_count": 5,
   "id": "16f269c2",
   "metadata": {},
   "outputs": [],
   "source": [
    "import torch\n",
    "import os\n",
    "import torchvision\n",
    "import torchvision.transforms as transforms\n",
    "from fedn.utils.helpers import get_helper\n",
    "import numpy as np\n",
    "from matplotlib import pyplot as plt\n",
    "\n",
    "from torch.utils.data import DataLoader, TensorDataset"
   ]
  },
  {
   "cell_type": "markdown",
   "id": "8d277963",
   "metadata": {},
   "source": [
    "# Function"
   ]
  },
  {
   "cell_type": "code",
   "execution_count": 6,
   "id": "b023a0e4",
   "metadata": {},
   "outputs": [],
   "source": [
    "class Net(torch.nn.Module):\n",
    "    def __init__(self):\n",
    "        super(Net, self).__init__()\n",
    "        self.fc1 = torch.nn.Linear(784, 64)\n",
    "        self.fc2 = torch.nn.Linear(64, 32)\n",
    "        self.fc3 = torch.nn.Linear(32, 10)\n",
    "\n",
    "    def forward(self, x):\n",
    "        x = torch.nn.functional.relu(self.fc1(x.reshape(x.size(0), 784)))\n",
    "        x = torch.nn.functional.dropout(x, p=0.5, training=self.training)\n",
    "        x = torch.nn.functional.relu(self.fc2(x))\n",
    "        x = torch.nn.functional.log_softmax(self.fc3(x), dim=1)\n",
    "        return x\n"
   ]
  },
  {
   "cell_type": "markdown",
   "id": "785fe88b",
   "metadata": {},
   "source": [
    "# Load model and params"
   ]
  },
  {
   "cell_type": "code",
   "execution_count": 7,
   "id": "208e304f",
   "metadata": {},
   "outputs": [
    {
     "data": {
      "text/plain": [
       "Net(\n",
       "  (fc1): Linear(in_features=784, out_features=64, bias=True)\n",
       "  (fc2): Linear(in_features=64, out_features=32, bias=True)\n",
       "  (fc3): Linear(in_features=32, out_features=10, bias=True)\n",
       ")"
      ]
     },
     "execution_count": 7,
     "metadata": {},
     "output_type": "execute_result"
    }
   ],
   "source": [
    "# Specify params\n",
    "params = '50_clients_40_rounds/PARAMS/params_50_clients_40_rounds_0%.json'\n",
    "\n",
    "# Load the saved model state\n",
    "HELPER_MODULE = 'pytorchhelper'\n",
    "helper = get_helper(HELPER_MODULE)\n",
    "weights_np = helper.load(params)\n",
    "for k in weights_np.keys():\n",
    "    weights_np[k] = torch.from_numpy(weights_np[k])\n",
    "\n",
    "model = Net()\n",
    "model.load_state_dict(weights_np)\n",
    "\n",
    "# Set the model to evaluation mode\n",
    "model.eval()"
   ]
  },
  {
   "cell_type": "markdown",
   "id": "de5a043f",
   "metadata": {},
   "source": [
    "# Visualize the first layer"
   ]
  },
  {
   "cell_type": "code",
   "execution_count": null,
   "id": "b62cdb44",
   "metadata": {},
   "outputs": [],
   "source": []
  },
  {
   "cell_type": "code",
   "execution_count": null,
   "id": "8c810cb5",
   "metadata": {},
   "outputs": [],
   "source": []
  },
  {
   "cell_type": "code",
   "execution_count": null,
   "id": "ce6066ec",
   "metadata": {},
   "outputs": [],
   "source": []
  }
 ],
 "metadata": {
  "kernelspec": {
   "display_name": "fedn_project",
   "language": "python",
   "name": "fedn_project"
  },
  "language_info": {
   "codemirror_mode": {
    "name": "ipython",
    "version": 3
   },
   "file_extension": ".py",
   "mimetype": "text/x-python",
   "name": "python",
   "nbconvert_exporter": "python",
   "pygments_lexer": "ipython3",
   "version": "3.9.18"
  }
 },
 "nbformat": 4,
 "nbformat_minor": 5
}
