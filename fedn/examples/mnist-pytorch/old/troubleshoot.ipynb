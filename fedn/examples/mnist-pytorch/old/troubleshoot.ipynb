{
 "cells": [
  {
   "cell_type": "markdown",
   "id": "49ae6ef5",
   "metadata": {},
   "source": [
    "# Import"
   ]
  },
  {
   "cell_type": "code",
   "execution_count": 1,
   "id": "9955aa70",
   "metadata": {},
   "outputs": [
    {
     "name": "stdout",
     "output_type": "stream",
     "text": [
      "Intel MKL WARNING: Support of Intel(R) Streaming SIMD Extensions 4.2 (Intel(R) SSE4.2) enabled only processors has been deprecated. Intel oneAPI Math Kernel Library 2025.0 will require Intel(R) Advanced Vector Extensions (Intel(R) AVX) instructions.\n",
      "Intel MKL WARNING: Support of Intel(R) Streaming SIMD Extensions 4.2 (Intel(R) SSE4.2) enabled only processors has been deprecated. Intel oneAPI Math Kernel Library 2025.0 will require Intel(R) Advanced Vector Extensions (Intel(R) AVX) instructions.\n"
     ]
    }
   ],
   "source": [
    "import torch\n",
    "import os"
   ]
  },
  {
   "cell_type": "markdown",
   "id": "35034b46",
   "metadata": {},
   "source": [
    "# Troubleshoot"
   ]
  },
  {
   "cell_type": "code",
   "execution_count": 12,
   "id": "58ede0f8",
   "metadata": {},
   "outputs": [
    {
     "name": "stdout",
     "output_type": "stream",
     "text": [
      "\n",
      "Client 1:\n",
      "tensor([3, 5, 3,  ..., 3, 7, 0])\n",
      "12000\n",
      "\n",
      "Client 2:\n",
      "tensor([5, 3, 7,  ..., 4, 3, 7])\n",
      "12000\n",
      "\n",
      "Client 3:\n",
      "tensor([0, 9, 9,  ..., 7, 7, 2])\n",
      "12000\n",
      "\n",
      "Client 4:\n",
      "tensor([3, 0, 9,  ..., 5, 8, 4])\n",
      "12000\n",
      "\n",
      "Client 5:\n",
      "tensor([9, 6, 9,  ..., 8, 9, 2])\n",
      "12000\n"
     ]
    }
   ],
   "source": [
    "# Base path\n",
    "file_path = '/Users/Edvin/Desktop/Project/Evaluating-Model-Poisoning-Attacks-in-Federated-Machine-Learning/fedn/examples/mnist-pytorch/data/clients'\n",
    "\n",
    "num_clients = sum(os.path.isdir(os.path.join(file_path, i)) for i in os.listdir(file_path))\n",
    "\n",
    "# Loop through each file\n",
    "for i in range(1, num_clients+1):\n",
    "    # Construct the file path\n",
    "    file = f\"{file_path}/{i}/mnist.pt\"\n",
    "\n",
    "    # Load the file\n",
    "    data = torch.load(file)\n",
    "\n",
    "    # Check the type and contents of the loaded data\n",
    "    print(f\"\\nClient {i}:\")\n",
    "    print(data[\"y_train\"])\n",
    "    print(len(data[\"y_train\"]))\n",
    "    "
   ]
  },
  {
   "cell_type": "code",
   "execution_count": 14,
   "id": "89d38d5b",
   "metadata": {},
   "outputs": [
    {
     "data": {
      "image/png": "[encoded data removed]",
      "text/plain": [
       "<Figure size 432x288 with 1 Axes>"
      ]
     },
     "metadata": {
      "needs_background": "light"
     },
     "output_type": "display_data"
    }
   ],
   "source": [
    "import matplotlib.pyplot as plt\n",
    "\n",
    "# Specify the client number and data point index\n",
    "client_number = 1\n",
    "data_point_index = 1\n",
    "\n",
    "# File path for the specific client\n",
    "client_file = f\"{file_path}/{client_number}/mnist.pt\"\n",
    "\n",
    "# Load the data for the specified client\n",
    "client_data = torch.load(client_file)\n",
    "\n",
    "# Extract the image and label for the specified index\n",
    "image = client_data['x_train'][data_point_index].reshape(28, 28)\n",
    "label = client_data['y_train'][data_point_index]\n",
    "\n",
    "# Plot the image\n",
    "plt.imshow(image, cmap='gray')\n",
    "plt.title(f\"Label: {label}\")\n",
    "plt.axis('off')\n",
    "plt.show()"
   ]
  },
  {
   "cell_type": "code",
   "execution_count": null,
   "id": "ea5a0409",
   "metadata": {},
   "outputs": [],
   "source": []
  }
 ],
 "metadata": {
  "kernelspec": {
   "display_name": "deepimg",
   "language": "python",
   "name": "deepimg"
  },
  "language_info": {
   "codemirror_mode": {
    "name": "ipython",
    "version": 3
   },
   "file_extension": ".py",
   "mimetype": "text/x-python",
   "name": "python",
   "nbconvert_exporter": "python",
   "pygments_lexer": "ipython3",
   "version": "3.9.16"
  }
 },
 "nbformat": 4,
 "nbformat_minor": 5
}
