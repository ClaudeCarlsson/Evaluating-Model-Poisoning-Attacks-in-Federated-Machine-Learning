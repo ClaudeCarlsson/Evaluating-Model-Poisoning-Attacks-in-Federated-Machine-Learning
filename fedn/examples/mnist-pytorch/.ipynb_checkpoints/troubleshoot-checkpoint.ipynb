{
 "cells": [
  {
   "cell_type": "markdown",
   "id": "49ae6ef5",
   "metadata": {},
   "source": [
    "# Import"
   ]
  },
  {
   "cell_type": "code",
   "execution_count": 14,
   "id": "9955aa70",
   "metadata": {},
   "outputs": [],
   "source": [
    "import torch\n",
    "import os"
   ]
  },
  {
   "cell_type": "markdown",
   "id": "35034b46",
   "metadata": {},
   "source": [
    "# Troubleshoot"
   ]
  },
  {
   "cell_type": "code",
   "execution_count": 25,
   "id": "58ede0f8",
   "metadata": {},
   "outputs": [
    {
     "name": "stdout",
     "output_type": "stream",
     "text": [
      "\n",
      "Client 1:\n",
      "tensor([5, 0, 4,  ..., 2, 8, 3])\n",
      "12000\n",
      "\n",
      "Client 2:\n",
      "tensor([7, 4, 6,  ..., 3, 9, 4])\n",
      "12000\n",
      "\n",
      "Client 3:\n",
      "tensor([8, 5, 8,  ..., 8, 7, 0])\n",
      "12000\n",
      "\n",
      "Client 4:\n",
      "tensor([9, 2, 6,  ..., 0, 1, 2])\n",
      "12000\n"
     ]
    }
   ],
   "source": [
    "# Base path\n",
    "file_path = '/Users/Edvin/Desktop/Project/fedn/examples/mnist-pytorch/data/clients'\n",
    "\n",
    "num_clients = sum(os.path.isdir(os.path.join(file_path, i)) for i in os.listdir(file_path))\n",
    "\n",
    "# Loop through each file\n",
    "for i in range(1, num_clients):\n",
    "    # Construct the file path\n",
    "    file = f\"{file_path}/{i}/mnist.pt\"\n",
    "\n",
    "    # Load the file\n",
    "    data = torch.load(file)\n",
    "\n",
    "    # Check the type and contents of the loaded data\n",
    "    print(f\"\\nClient {i}:\")\n",
    "    print(data[\"y_train\"])\n",
    "    print(len(data[\"y_train\"]))"
   ]
  },
  {
   "cell_type": "code",
   "execution_count": null,
   "id": "89d38d5b",
   "metadata": {},
   "outputs": [],
   "source": []
  }
 ],
 "metadata": {
  "kernelspec": {
   "display_name": "deepimg",
   "language": "python",
   "name": "deepimg"
  },
  "language_info": {
   "codemirror_mode": {
    "name": "ipython",
    "version": 3
   },
   "file_extension": ".py",
   "mimetype": "text/x-python",
   "name": "python",
   "nbconvert_exporter": "python",
   "pygments_lexer": "ipython3",
   "version": "3.9.16"
  }
 },
 "nbformat": 4,
 "nbformat_minor": 5
}
