{
 "cells": [
  {
   "cell_type": "markdown",
   "id": "bb140add",
   "metadata": {},
   "source": [
    "# Imports"
   ]
  },
  {
   "cell_type": "code",
   "execution_count": 7,
   "id": "f29d44f5",
   "metadata": {},
   "outputs": [],
   "source": [
    "import torch\n",
    "import random\n",
    "import os"
   ]
  },
  {
   "cell_type": "markdown",
   "id": "6ec752d0",
   "metadata": {},
   "source": [
    "# Functions"
   ]
  },
  {
   "cell_type": "code",
   "execution_count": 8,
   "id": "c77edb7d",
   "metadata": {},
   "outputs": [],
   "source": [
    "def count_folders(directory):\n",
    "    \"\"\"Count the number of folders in the specified directory.\"\"\"\n",
    "    if not os.path.exists(directory):\n",
    "        return \"Directory does not exist.\"\n",
    "\n",
    "    folder_count = 0\n",
    "    for entry in os.listdir(directory):\n",
    "        if os.path.isdir(os.path.join(directory, entry)):\n",
    "            folder_count += 1\n",
    "\n",
    "    return folder_count\n",
    "\n",
    "\n",
    "\n",
    "def label_flip(root_dir, swap_function, p_ratio):\n",
    "    \"\"\"\n",
    "    Swaps labels in the y_train of mnist.pt files located in numbered subfolders and saves them in corresponding subdirectories\n",
    "    within the poisoned_clients directory.\n",
    "\n",
    "    :param root_dir: The root directory where the 'clients' folder is located.\n",
    "    :param num_folders: The number of folders to process.\n",
    "    :param swap_function: A function that takes a label and returns a swapped label.\n",
    "    \"\"\"\n",
    "    clients_dir = os.path.join(root_dir, 'clients')\n",
    "    poisoned_clients_dir = os.path.join(root_dir, 'poisoned_clients')\n",
    "    \n",
    "    num_folders = count_folders(clients_dir)\n",
    "\n",
    "    # Create the poisoned_clients directory if it does not exist\n",
    "    if not os.path.exists(poisoned_clients_dir):\n",
    "        os.makedirs(poisoned_clients_dir)\n",
    "\n",
    "    # Check if the clients directory exists\n",
    "    if not os.path.exists(clients_dir):\n",
    "        return \"Clients directory does not exist.\"\n",
    "\n",
    "    num_pois_folders = int(p_ratio * num_folders)\n",
    "    i = 0\n",
    "            \n",
    "    for folder in sorted(os.listdir(clients_dir)):\n",
    "        \n",
    "        folder_path = os.path.join(clients_dir, folder)\n",
    "\n",
    "        # Check if the folder is a directory and named with a number\n",
    "        if os.path.isdir(folder_path) and folder.isdigit():\n",
    "            mnist_file = os.path.join(folder_path, 'mnist.pt')\n",
    "            \n",
    "            # Check if mnist.pt exists in this folder\n",
    "            if os.path.isfile(mnist_file):\n",
    "                \n",
    "                # Load mnist.pt file\n",
    "                data = torch.load(mnist_file)\n",
    "                if i < num_pois_folders:\n",
    "                \n",
    "                    # Swap labels in y_train\n",
    "                    y_train_swapped = [swap_function(label.item()) for label in data['y_train']]\n",
    "                    data['y_train'] = torch.tensor(y_train_swapped)\n",
    "                \n",
    "\n",
    "                # Define the poisoned clients subdirectory\n",
    "                poisoned_subdir = os.path.join(poisoned_clients_dir, folder)\n",
    "                if not os.path.exists(poisoned_subdir):\n",
    "                    os.makedirs(poisoned_subdir)\n",
    "\n",
    "                # Define the path for the poisoned mnist file\n",
    "                poisoned_file_path = os.path.join(poisoned_subdir, 'mnist.pt')\n",
    "\n",
    "                # Save the modified mnist.pt file in the corresponding poisoned_clients subdirectory\n",
    "                torch.save(data, poisoned_file_path)\n",
    "\n",
    "\n",
    "                i += 1\n",
    "\n",
    "\n",
    "\n",
    "def example_swap_function(label):\n",
    "    choices = [i for i in range(10) if i != label]\n",
    "    return random.choice(choices)\n",
    "\n",
    "\n",
    "\n",
    "\n",
    "def show_data(path,nr_of_clients):\n",
    "    # Loop through each file\n",
    "    for i in range(1, nr_of_clients+1):\n",
    "        # Construct the file path\n",
    "        file = f\"{path}/{i}/mnist.pt\"\n",
    "\n",
    "        # Load the file\n",
    "        data = torch.load(file)\n",
    "\n",
    "        # Check the type and contents of the loaded data\n",
    "        print(f\"\\nClient {i}:\")\n",
    "        print(data[\"y_train\"])\n",
    "        print(len(data[\"y_train\"]))\n",
    "\n",
    "\n"
   ]
  },
  {
   "cell_type": "markdown",
   "id": "3d6a2589",
   "metadata": {},
   "source": [
    "# Baseline"
   ]
  },
  {
   "cell_type": "code",
   "execution_count": 9,
   "id": "a9298067",
   "metadata": {},
   "outputs": [
    {
     "name": "stdout",
     "output_type": "stream",
     "text": [
      "\n",
      "Client 1:\n",
      "tensor([5, 0, 4,  ..., 2, 8, 3])\n",
      "12000\n",
      "\n",
      "Client 2:\n",
      "tensor([7, 4, 6,  ..., 3, 9, 4])\n",
      "12000\n",
      "\n",
      "Client 3:\n",
      "tensor([8, 5, 8,  ..., 8, 7, 0])\n",
      "12000\n",
      "\n",
      "Client 4:\n",
      "tensor([9, 2, 6,  ..., 0, 1, 2])\n",
      "12000\n",
      "\n",
      "Client 5:\n",
      "tensor([4, 7, 8,  ..., 5, 6, 8])\n",
      "12000\n"
     ]
    }
   ],
   "source": [
    "path1 = 'data/clients'\n",
    "nr_of_clients = count_folders(path1)\n",
    "show_data(path1,nr_of_clients)"
   ]
  },
  {
   "cell_type": "markdown",
   "id": "ad5c8484",
   "metadata": {},
   "source": [
    "# Label Flipping"
   ]
  },
  {
   "cell_type": "code",
   "execution_count": 12,
   "id": "bed4893b",
   "metadata": {},
   "outputs": [],
   "source": [
    "path2 = 'data'\n",
    "label_flip(path2, example_swap_function, 0.6)"
   ]
  },
  {
   "cell_type": "code",
   "execution_count": 13,
   "id": "5c8e78b5",
   "metadata": {},
   "outputs": [
    {
     "name": "stdout",
     "output_type": "stream",
     "text": [
      "\n",
      "Client 1:\n",
      "tensor([8, 3, 6,  ..., 8, 5, 6])\n",
      "12000\n",
      "\n",
      "Client 2:\n",
      "tensor([1, 7, 4,  ..., 1, 1, 3])\n",
      "12000\n",
      "\n",
      "Client 3:\n",
      "tensor([2, 8, 5,  ..., 3, 2, 9])\n",
      "12000\n",
      "\n",
      "Client 4:\n",
      "tensor([9, 2, 6,  ..., 0, 1, 2])\n",
      "12000\n",
      "\n",
      "Client 5:\n",
      "tensor([4, 7, 8,  ..., 5, 6, 8])\n",
      "12000\n"
     ]
    }
   ],
   "source": [
    "path2 = 'data/poisoned_clients'\n",
    "nr_of_clients = count_folders(path2)\n",
    "show_data(path2,nr_of_clients)"
   ]
  },
  {
   "cell_type": "code",
   "execution_count": null,
   "id": "0f99a756",
   "metadata": {},
   "outputs": [],
   "source": []
  }
 ],
 "metadata": {
  "kernelspec": {
   "display_name": "fedn_project",
   "language": "python",
   "name": "fedn_project"
  },
  "language_info": {
   "codemirror_mode": {
    "name": "ipython",
    "version": 3
   },
   "file_extension": ".py",
   "mimetype": "text/x-python",
   "name": "python",
   "nbconvert_exporter": "python",
   "pygments_lexer": "ipython3",
   "version": "3.9.18"
  }
 },
 "nbformat": 4,
 "nbformat_minor": 5
}
